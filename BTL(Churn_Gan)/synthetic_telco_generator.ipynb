{
 "cells": [
  {
   "cell_type": "code",
   "execution_count": 12,
   "id": "0c0cdee3",
   "metadata": {},
   "outputs": [],
   "source": [
    "# Synthetic Data Generation for Telco Churn Dataset using CTGAN"
   ]
  },
  {
   "cell_type": "code",
   "execution_count": 13,
   "id": "44378494",
   "metadata": {},
   "outputs": [],
   "source": [
    "import pandas as pd\n",
    "from ctgan import CTGAN\n"
   ]
  },
  {
   "cell_type": "code",
   "execution_count": null,
   "id": "7f1744e5",
   "metadata": {},
   "outputs": [],
   "source": [
    "# Load và xử lý dữ liệu\n",
    "df = pd.read_csv(r\"C:\\Users\\nguye\\CODE\\TimeSeries\\BTL(Churn_Gan)\\Data\\WA_Fn-UseC_-Telco-Customer-Churn.csv\")\n",
    "df.drop(columns=[\"customerID\"], inplace=True)\n",
    "df[\"TotalCharges\"] = pd.to_numeric(df[\"TotalCharges\"], errors=\"coerce\")\n",
    "df_clean = df.dropna().reset_index(drop=True)\n"
   ]
  },
  {
   "cell_type": "code",
   "execution_count": 15,
   "id": "1369cac6",
   "metadata": {},
   "outputs": [],
   "source": [
    "# Lấy danh sách cột phân loại (chuỗi object → categorical/discrete)\n",
    "discrete_columns = df_clean.select_dtypes(include='object').columns.tolist()"
   ]
  },
  {
   "cell_type": "code",
   "execution_count": 16,
   "id": "ab0a3608",
   "metadata": {},
   "outputs": [],
   "source": [
    "# Train CTGAN\n",
    "ctgan = CTGAN(epochs=300)\n",
    "ctgan.fit(df_clean, discrete_columns=discrete_columns)"
   ]
  },
  {
   "cell_type": "code",
   "execution_count": 17,
   "id": "36a1da17",
   "metadata": {},
   "outputs": [],
   "source": [
    "import os\n",
    "\n",
    "# Tạo thư mục nếu chưa có\n",
    "os.makedirs(\"data_parts\", exist_ok=True)\n"
   ]
  },
  {
   "cell_type": "code",
   "execution_count": 18,
   "id": "06b0cd81",
   "metadata": {},
   "outputs": [
    {
     "name": "stdout",
     "output_type": "stream",
     "text": [
      "Đang sinh dữ liệu cho file part_1.csv ...\n",
      "Đang sinh dữ liệu cho file part_2.csv ...\n",
      "Đang sinh dữ liệu cho file part_3.csv ...\n",
      "Đang sinh dữ liệu cho file part_4.csv ...\n",
      "Đang sinh dữ liệu cho file part_5.csv ...\n",
      "Đang sinh dữ liệu cho file part_6.csv ...\n",
      "Đang sinh dữ liệu cho file part_7.csv ...\n",
      "Đang sinh dữ liệu cho file part_8.csv ...\n",
      "Đang sinh dữ liệu cho file part_9.csv ...\n",
      "Đang sinh dữ liệu cho file part_10.csv ...\n"
     ]
    }
   ],
   "source": [
    "# Sinh ra 10 triệu dòng chia thành 10 phần → mỗi phần ~1GB\n",
    "n_total = 10_000_000\n",
    "n_parts = 10\n",
    "rows_per_file = n_total // n_parts\n",
    "\n",
    "for i in range(1, n_parts + 1):\n",
    "    print(f\"Đang sinh dữ liệu cho file part_{i}.csv ...\")\n",
    "    synthetic_data = ctgan.sample(rows_per_file)\n",
    "    synthetic_data.to_csv(f\"data_parts/part_{i}.csv\", index=False)\n"
   ]
  },
  {
   "cell_type": "code",
   "execution_count": 19,
   "id": "9171146b",
   "metadata": {},
   "outputs": [],
   "source": [
    "# Gộp tất cả file từ thư mục data_parts\n",
    "output_file = \"2019_Data.csv\"\n",
    "csv_files = sorted([f for f in os.listdir(\"data_parts\") if f.endswith(\".csv\")])\n",
    "\n",
    "first_file = True\n",
    "for file in csv_files:\n",
    "    df = pd.read_csv(os.path.join(\"data_parts\", file))\n",
    "    df.to_csv(output_file, mode=\"a\", index=False, header=first_file)\n",
    "    first_file = False\n"
   ]
  }
 ],
 "metadata": {
  "kernelspec": {
   "display_name": "base",
   "language": "python",
   "name": "python3"
  },
  "language_info": {
   "codemirror_mode": {
    "name": "ipython",
    "version": 3
   },
   "file_extension": ".py",
   "mimetype": "text/x-python",
   "name": "python",
   "nbconvert_exporter": "python",
   "pygments_lexer": "ipython3",
   "version": "3.12.7"
  }
 },
 "nbformat": 4,
 "nbformat_minor": 5
}
