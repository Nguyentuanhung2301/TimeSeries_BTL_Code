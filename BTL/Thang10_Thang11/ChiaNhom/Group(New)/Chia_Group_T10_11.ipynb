{
 "cells": [
  {
   "cell_type": "code",
   "execution_count": 1,
   "id": "67705c22",
   "metadata": {},
   "outputs": [],
   "source": [
    "import pandas as pd\n",
    "\n",
    "# Bước 1: Đếm tần suất xuất hiện của user_id\n",
    "user_freq = pd.read_csv(r\"C:\\Users\\nguye\\CODE\\TimeSeries\\BTL\\Data\\2019_Data.csv\", usecols=[\"user_id\"])[\"user_id\"].value_counts()\n",
    "\n",
    "# Bước 2: Tính phân vị để chia nhóm\n",
    "q30 = user_freq.quantile(0.3)\n",
    "q70 = user_freq.quantile(0.7)\n",
    "q90 = user_freq.quantile(0.9)\n",
    "\n",
    "# Bước 3: Gán nhóm A/B/C/D cho từng user\n",
    "def assign_group(freq):\n",
    "    if freq >= q90:\n",
    "        return 'A'\n",
    "    elif freq >= q70:\n",
    "        return 'B'\n",
    "    elif freq >= q30:\n",
    "        return 'C'\n",
    "    else:\n",
    "        return 'D'\n",
    "\n",
    "user_group = user_freq.apply(assign_group).reset_index()\n",
    "user_group.columns = ['user_id', 'group']\n",
    "\n",
    "# Đổi kiểu user_id sang cùng kiểu với file chính (nếu là int/str)\n",
    "user_group['user_id'] = user_group['user_id'].astype(str)\n",
    "\n"
   ]
  },
  {
   "cell_type": "code",
   "execution_count": 2,
   "id": "337ee2c7",
   "metadata": {},
   "outputs": [],
   "source": [
    "# Bước 4: Gộp từng chunk và ghi ra 4 file\n",
    "chunksize = 500_000  # tùy RAM máy bạn, 0.5–1 triệu dòng/lần\n",
    "reader = pd.read_csv(r\"C:\\Users\\nguye\\CODE\\TimeSeries\\BTL\\Data\\2019_Data.csv\", chunksize=chunksize, dtype={'user_id': str})\n",
    "\n",
    "# Tạo các file csv đầu ra\n",
    "output_files = {\n",
    "    'A': open(\"2019_GroupA.csv\", \"w\", encoding=\"utf-8\"),\n",
    "    'B': open(\"2019_GroupB.csv\", \"w\", encoding=\"utf-8\"),\n",
    "    'C': open(\"2019_GroupC.csv\", \"w\", encoding=\"utf-8\"),\n",
    "    'D': open(\"2019_GroupD.csv\", \"w\", encoding=\"utf-8\")\n",
    "}\n",
    "\n",
    "header_written = {'A': False, 'B': False, 'C': False, 'D': False}\n",
    "\n",
    "for chunk in reader:\n",
    "    chunk['user_id'] = chunk['user_id'].astype(str)\n",
    "    merged = chunk.merge(user_group, on='user_id', how='left')\n",
    "\n",
    "    for group in ['A', 'B', 'C', 'D']:\n",
    "        group_data = merged[merged['group'] == group]\n",
    "        if not group_data.empty:\n",
    "            group_data.drop(columns='group').to_csv(\n",
    "                output_files[group],\n",
    "                header=not header_written[group],\n",
    "                index=False,\n",
    "                mode='a'\n",
    "            )\n",
    "            header_written[group] = True\n",
    "\n",
    "# Đóng file\n",
    "for f in output_files.values():\n",
    "    f.close()\n"
   ]
  }
 ],
 "metadata": {
  "kernelspec": {
   "display_name": "base",
   "language": "python",
   "name": "python3"
  },
  "language_info": {
   "codemirror_mode": {
    "name": "ipython",
    "version": 3
   },
   "file_extension": ".py",
   "mimetype": "text/x-python",
   "name": "python",
   "nbconvert_exporter": "python",
   "pygments_lexer": "ipython3",
   "version": "3.12.7"
  }
 },
 "nbformat": 4,
 "nbformat_minor": 5
}
