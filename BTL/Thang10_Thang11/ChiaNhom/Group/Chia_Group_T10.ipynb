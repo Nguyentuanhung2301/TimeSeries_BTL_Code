{
 "cells": [
  {
   "cell_type": "code",
   "execution_count": null,
   "id": "a2b9c6b1",
   "metadata": {},
   "outputs": [
    {
     "name": "stdout",
     "output_type": "stream",
     "text": [
      "🔄 Bắt đầu đếm hành vi user tháng 10...\n",
      "✅ Đã đếm xong hành vi của 3022290 user trong tháng 10.\n"
     ]
    }
   ],
   "source": [
    "import pandas as pd\n",
    "from collections import defaultdict\n",
    "\n",
    "input_file = r\"C:\\Users\\nguye\\CODE\\TimeSeries\\BTL\\Data\\2019_Data.csv\"\n",
    "chunksize = 500_000  # Bạn có thể tăng/giảm tùy RAM\n",
    "\n",
    "# === BƯỚC 1: Đếm số lượng hành vi mỗi user trong THÁNG 10 ===\n",
    "user_event_counts = defaultdict(int)\n",
    "\n",
    "print(\"🔄 Bắt đầu đếm hành vi user tháng 10...\")\n",
    "\n",
    "for chunk in pd.read_csv(input_file, chunksize=chunksize):\n",
    "    # Chuyển event_time sang datetime\n",
    "    chunk['event_time'] = pd.to_datetime(chunk['event_time'], errors='coerce')\n",
    "    chunk = chunk.dropna(subset=['event_time'])  # loại bỏ dòng lỗi thời gian\n",
    "\n",
    "    # Tạo cột month\n",
    "    chunk['month'] = chunk['event_time'].dt.month\n",
    "\n",
    "    # Chỉ lấy dữ liệu tháng 10\n",
    "    oct_chunk = chunk[chunk['month'] == 10]\n",
    "\n",
    "    # Đếm hành vi từng user\n",
    "    counts = oct_chunk['user_id'].value_counts()\n",
    "    for uid, cnt in counts.items():\n",
    "        user_event_counts[uid] += cnt\n",
    "\n",
    "\n",
    "print(f\"✅ Đã đếm xong hành vi của {len(user_event_counts)} user trong tháng 10.\")"
   ]
  },
  {
   "cell_type": "code",
   "execution_count": 3,
   "id": "c46cfa8b",
   "metadata": {},
   "outputs": [],
   "source": [
    "# === BƯỚC 2: Gán nhóm A/B/C/D dựa trên số lượng hành vi ===\n",
    "def assign_group(n):\n",
    "    if n >= 100:\n",
    "        return 'A'\n",
    "    elif n >= 30:\n",
    "        return 'B'\n",
    "    elif n >= 5:\n",
    "        return 'C'\n",
    "    else:\n",
    "        return 'D'\n",
    "\n",
    "user_groups = {uid: assign_group(cnt) for uid, cnt in user_event_counts.items()}"
   ]
  },
  {
   "cell_type": "code",
   "execution_count": 4,
   "id": "faa57ad0",
   "metadata": {},
   "outputs": [
    {
     "name": "stdout",
     "output_type": "stream",
     "text": [
      "📤 Đang phân chia và xuất dữ liệu theo nhóm...\n",
      "✅ Hoàn tất xuất file chia theo nhóm.\n"
     ]
    }
   ],
   "source": [
    "# === BƯỚC 3: Lướt lại file theo chunk, gán nhóm và xuất ra 4 file riêng ===\n",
    "output_files = {\n",
    "    'A': open(\"2019_Data_GroupA.csv\", \"w\", encoding='utf-8'),\n",
    "    'B': open(\"2019_Data_GroupB.csv\", \"w\", encoding='utf-8'),\n",
    "    'C': open(\"2019_Data_GroupC.csv\", \"w\", encoding='utf-8'),\n",
    "    'D': open(\"2019_Data_GroupD.csv\", \"w\", encoding='utf-8')\n",
    "}\n",
    "\n",
    "header_written = {'A': False, 'B': False, 'C': False, 'D': False}\n",
    "\n",
    "print(\"📤 Đang phân chia và xuất dữ liệu theo nhóm...\")\n",
    "\n",
    "for chunk in pd.read_csv(input_file, chunksize=chunksize):\n",
    "    # Giữ lại các user có trong user_groups (xuất hiện trong tháng 10)\n",
    "    chunk = chunk[chunk['user_id'].isin(user_groups.keys())]\n",
    "\n",
    "    # Gán nhóm mới\n",
    "    chunk['group'] = chunk['user_id'].map(user_groups)\n",
    "\n",
    "    # Xuất theo từng nhóm\n",
    "    for group in ['A', 'B', 'C', 'D']:\n",
    "        sub = chunk[chunk['group'] == group].drop(columns='group')\n",
    "        if not sub.empty:\n",
    "            sub.to_csv(output_files[group], index=False, header=not header_written[group])\n",
    "            header_written[group] = True\n",
    "\n",
    "print(\"✅ Hoàn tất xuất file chia theo nhóm.\")\n",
    "\n",
    "# Đóng file\n",
    "for f in output_files.values():\n",
    "    f.close()"
   ]
  }
 ],
 "metadata": {
  "kernelspec": {
   "display_name": "base",
   "language": "python",
   "name": "python3"
  },
  "language_info": {
   "codemirror_mode": {
    "name": "ipython",
    "version": 3
   },
   "file_extension": ".py",
   "mimetype": "text/x-python",
   "name": "python",
   "nbconvert_exporter": "python",
   "pygments_lexer": "ipython3",
   "version": "3.12.7"
  }
 },
 "nbformat": 4,
 "nbformat_minor": 5
}
