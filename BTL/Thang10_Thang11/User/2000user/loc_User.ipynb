{
 "cells": [
  {
   "cell_type": "code",
   "execution_count": null,
   "id": "9adcc647",
   "metadata": {},
   "outputs": [],
   "source": [
    "from pyspark.sql import SparkSession\n",
    "from pyspark.sql.functions import col, desc\n",
    "from pyspark.sql import functions as F\n",
    "\n",
    "\n",
    "spark = SparkSession.builder.appName(\"ChurnFix\").getOrCreate()\n",
    "\n",
    "# Đọc file gốc bạn đã upload\n",
    "df = spark.read.option(\"header\", True).option(\"inferSchema\", True).csv(r\"C:\\Users\\nguye\\CODE\\TimeSeries\\BTL\\Data\\2019_Data.csv\")\n",
    "\n",
    "# Đảm bảo cột churn là số\n",
    "df = df.withColumn(\"churn\", col(\"churn\").cast(\"int\"))\n"
   ]
  },
  {
   "cell_type": "code",
   "execution_count": null,
   "id": "94939d82",
   "metadata": {},
   "outputs": [
    {
     "name": "stdout",
     "output_type": "stream",
     "text": [
      "+---------+-----+\n",
      "|  user_id|count|\n",
      "+---------+-----+\n",
      "|568778435|22929|\n",
      "|569335945|14810|\n",
      "|512475445|13547|\n",
      "|512365995|10055|\n",
      "|568818636| 6171|\n",
      "|514649263| 5779|\n",
      "|512505687| 5568|\n",
      "|559249905| 5394|\n",
      "|512388419| 5225|\n",
      "|532769022| 5014|\n",
      "|568793129| 4771|\n",
      "|513021392| 4461|\n",
      "|537873067| 4391|\n",
      "|568804062| 4257|\n",
      "|544123737| 4161|\n",
      "|573277455| 4128|\n",
      "|512401084| 4081|\n",
      "|512786243| 4034|\n",
      "|546159478| 4029|\n",
      "|516308435| 3750|\n",
      "+---------+-----+\n",
      "only showing top 20 rows\n",
      "\n"
     ]
    }
   ],
   "source": [
    "# Lấy top 2000 user_id xuất hiện nhiều nhất (giảm dùng collect)\n",
    "top_users_df = df.groupBy(\"user_id\") \\\n",
    "                 .count() \\\n",
    "                 .orderBy(F.desc(\"count\")) \\\n",
    "                 .limit(2000)\n",
    "\n",
    "# Hiển thị kiểm tra nhanh (không collect)\n",
    "top_users_df.show()\n",
    "\n",
    "# Lấy danh sách user_id thành list (ít tốn bộ nhớ hơn)\n",
    "top_users = [row['user_id'] for row in top_users_df.collect()]\n"
   ]
  },
  {
   "cell_type": "code",
   "execution_count": 20,
   "id": "2c191426",
   "metadata": {},
   "outputs": [
    {
     "name": "stdout",
     "output_type": "stream",
     "text": [
      "+-----+-------+\n",
      "|churn|  count|\n",
      "+-----+-------+\n",
      "|    1|1215607|\n",
      "|    0|1271593|\n",
      "+-----+-------+\n",
      "\n"
     ]
    }
   ],
   "source": [
    "# 5. Lọc dữ liệu chỉ chứa các user này\n",
    "filtered_df = df.filter(col(\"user_id\").isin(top_users))\n",
    "\n",
    "# 6. Kiểm tra phân phối churn (tùy chọn)\n",
    "filtered_df.groupBy(\"churn\").count().show()\n"
   ]
  },
  {
   "cell_type": "code",
   "execution_count": 21,
   "id": "ea012b67",
   "metadata": {},
   "outputs": [],
   "source": [
    "# Chuyển sang pandas\n",
    "filtered_df = filtered_df.toPandas()"
   ]
  },
  {
   "cell_type": "code",
   "execution_count": 22,
   "id": "6bfedad7",
   "metadata": {},
   "outputs": [],
   "source": [
    "filtered_df.to_csv(\"2019_Data_Cleaned.csv\", index=False)"
   ]
  }
 ],
 "metadata": {
  "kernelspec": {
   "display_name": "base",
   "language": "python",
   "name": "python3"
  },
  "language_info": {
   "codemirror_mode": {
    "name": "ipython",
    "version": 3
   },
   "file_extension": ".py",
   "mimetype": "text/x-python",
   "name": "python",
   "nbconvert_exporter": "python",
   "pygments_lexer": "ipython3",
   "version": "3.12.7"
  }
 },
 "nbformat": 4,
 "nbformat_minor": 5
}
