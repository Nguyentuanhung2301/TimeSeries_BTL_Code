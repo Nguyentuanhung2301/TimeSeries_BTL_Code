{
 "cells": [
  {
   "cell_type": "code",
   "execution_count": null,
   "id": "473bdd07",
   "metadata": {},
   "outputs": [
    {
     "name": "stdout",
     "output_type": "stream",
     "text": [
      "<class 'pandas.core.frame.DataFrame'>\n",
      "RangeIndex: 170916 entries, 0 to 170915\n",
      "Data columns (total 10 columns):\n",
      " #   Column         Non-Null Count   Dtype  \n",
      "---  ------         --------------   -----  \n",
      " 0   event_time     170916 non-null  object \n",
      " 1   event_type     170916 non-null  object \n",
      " 2   product_id     170916 non-null  int64  \n",
      " 3   category_id    170916 non-null  int64  \n",
      " 4   category_code  117174 non-null  object \n",
      " 5   brand          135305 non-null  object \n",
      " 6   price          170916 non-null  float64\n",
      " 7   user_id        170916 non-null  int64  \n",
      " 8   user_session   170916 non-null  object \n",
      " 9   churn          170916 non-null  int64  \n",
      "dtypes: float64(1), int64(4), object(5)\n",
      "memory usage: 13.0+ MB\n"
     ]
    },
    {
     "data": {
      "text/plain": [
       "(None,\n",
       "             event_time event_type  product_id          category_id  \\\n",
       " 0  2019-10-01 09:44:02       view     7005190  2053013560346280633   \n",
       " 1  2019-10-01 10:05:28       view    28100844  2053013564918072245   \n",
       " 2  2019-10-01 10:06:22       view    16300056  2053013558131687989   \n",
       " 3  2019-10-01 10:08:40       view     4200951  2053013552351936731   \n",
       " 4  2019-10-01 10:09:22       view     4200951  2053013552351936731   \n",
       " \n",
       "                             category_code      brand   price    user_id  \\\n",
       " 0                           kids.carriage    belecoo  183.21  514649263   \n",
       " 1                                     NaN  moldabela  175.55  516308435   \n",
       " 2                                     NaN        NaN   14.84  516308435   \n",
       " 3  appliances.environment.air_conditioner       gree  239.39  516308435   \n",
       " 4  appliances.environment.air_conditioner       gree  239.39  516308435   \n",
       " \n",
       "                            user_session  churn  \n",
       " 0  f88e19d3-d6c6-4e8e-ba90-52a7a28f7105      1  \n",
       " 1  f3485960-f3b3-41fe-80db-92305ae3d225      1  \n",
       " 2  f3485960-f3b3-41fe-80db-92305ae3d225      1  \n",
       " 3  5d21225b-c16a-414b-a5ac-178e0a34d516      1  \n",
       " 4  5d21225b-c16a-414b-a5ac-178e0a34d516      1  )"
      ]
     },
     "execution_count": 2,
     "metadata": {},
     "output_type": "execute_result"
    }
   ],
   "source": [
    "import pandas as pd\n",
    "\n",
    "# Đọc file CSV đã tải lên\n",
    "file_path = r\"C:\\Users\\nguye\\CODE\\TimeSeries\\BTL\\Thang10_Thang11\\User\\2019_Data_Cleaned.csv\"\n",
    "df = pd.read_csv(file_path)\n",
    "\n",
    "# Hiển thị thông tin tổng quan\n",
    "df.info(), df.head()\n"
   ]
  },
  {
   "cell_type": "code",
   "execution_count": 3,
   "id": "adaaa954",
   "metadata": {},
   "outputs": [],
   "source": [
    "import matplotlib.pyplot as plt\n",
    "import seaborn as sns\n",
    "\n",
    "# 1. Tiền xử lý dữ liệu\n",
    "df[\"event_time\"] = pd.to_datetime(df[\"event_time\"])\n",
    "df[\"category_code\"] = df[\"category_code\"].fillna(\"unknown\")\n",
    "df[\"brand\"] = df[\"brand\"].fillna(\"unknown\")\n",
    "\n",
    "# Thêm các đặc trưng thời gian\n",
    "df[\"event_date\"] = df[\"event_time\"].dt.date\n",
    "df[\"hour\"] = df[\"event_time\"].dt.hour\n",
    "df[\"dayofweek\"] = df[\"event_time\"].dt.dayofweek\n",
    "\n"
   ]
  },
  {
   "cell_type": "code",
   "execution_count": 4,
   "id": "25a58a9b",
   "metadata": {},
   "outputs": [],
   "source": [
    "# 2. Tổng hợp theo user_session để có dữ liệu gọn cho mô hình học máy\n",
    "session_df = df.groupby(\"user_session\").agg({\n",
    "    \"event_time\": [\"min\", \"max\", \"count\"],\n",
    "    \"event_type\": lambda x: x.nunique(),\n",
    "    \"product_id\": \"nunique\",\n",
    "    \"category_code\": lambda x: x.mode().iloc[0] if not x.mode().empty else \"unknown\",\n",
    "    \"brand\": lambda x: x.mode().iloc[0] if not x.mode().empty else \"unknown\",\n",
    "    \"price\": [\"sum\", \"mean\"],\n",
    "    \"churn\": \"max\"\n",
    "})\n",
    "\n",
    "# Làm phẳng MultiIndex\n",
    "session_df.columns = ['_'.join(col).strip() for col in session_df.columns.values]\n",
    "session_df.reset_index(inplace=True)\n",
    "\n",
    "\n"
   ]
  },
  {
   "cell_type": "code",
   "execution_count": 5,
   "id": "1c2d4c8e",
   "metadata": {},
   "outputs": [
    {
     "data": {
      "image/png": "[encoded data removed]",
      "text/plain": [
       "<Figure size 600x400 with 1 Axes>"
      ]
     },
     "metadata": {},
     "output_type": "display_data"
    },
    {
     "name": "stdout",
     "output_type": "stream",
     "text": [
      "<class 'pandas.core.frame.DataFrame'>\n",
      "RangeIndex: 84622 entries, 0 to 84621\n",
      "Columns: 770 entries, user_session to brand_<lambda>_zwilling\n",
      "dtypes: bool(761), datetime64[ns](2), float64(2), int64(4), object(1)\n",
      "memory usage: 67.2+ MB\n"
     ]
    }
   ],
   "source": [
    "# 3. Mã hóa các biến phân loại\n",
    "session_df = pd.get_dummies(session_df, columns=[\"category_code_<lambda>\", \"brand_<lambda>\"], drop_first=True)\n",
    "\n",
    "# 4. Đổi tên cột cho dễ đọc\n",
    "session_df.rename(columns={\n",
    "    \"event_time_min\": \"start_time\",\n",
    "    \"event_time_max\": \"end_time\",\n",
    "    \"event_time_count\": \"num_events\",\n",
    "    \"event_type_<lambda>\": \"num_event_types\",\n",
    "    \"product_id_nunique\": \"unique_products\",\n",
    "    \"price_sum\": \"total_spent\",\n",
    "    \"price_mean\": \"avg_price\",\n",
    "    \"churn_max\": \"churn\"\n",
    "}, inplace=True)\n",
    "\n",
    "# 5. Vẽ biểu đồ phân phối churn\n",
    "plt.figure(figsize=(6, 4))\n",
    "sns.countplot(x=\"churn\", data=session_df)\n",
    "plt.title(\"Phân phối biến mục tiêu: churn\")\n",
    "plt.xlabel(\"Churn\")\n",
    "plt.ylabel(\"Số lượng phiên\")\n",
    "plt.tight_layout()\n",
    "plt.show()\n",
    "\n",
    "# Xuất tổng quan dữ liệu sau xử lý\n",
    "session_df.info()"
   ]
  }
 ],
 "metadata": {
  "kernelspec": {
   "display_name": "base",
   "language": "python",
   "name": "python3"
  },
  "language_info": {
   "codemirror_mode": {
    "name": "ipython",
    "version": 3
   },
   "file_extension": ".py",
   "mimetype": "text/x-python",
   "name": "python",
   "nbconvert_exporter": "python",
   "pygments_lexer": "ipython3",
   "version": "3.12.7"
  }
 },
 "nbformat": 4,
 "nbformat_minor": 5
}
